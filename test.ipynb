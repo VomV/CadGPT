{
 "cells": [
  {
   "cell_type": "code",
   "execution_count": 13,
   "metadata": {},
   "outputs": [],
   "source": [
    "from math import pi\n",
    "\n",
    "from OCC.Core.gp import gp_Pnt2d, gp_XOY, gp_Lin2d, gp_Ax3, gp_Dir2d\n",
    "from OCC.Core.BRepBuilderAPI import BRepBuilderAPI_MakeEdge\n",
    "from OCC.Core.Geom import Geom_CylindricalSurface\n",
    "from OCC.Core.GCE2d import GCE2d_MakeSegment"
   ]
  },
  {
   "cell_type": "code",
   "execution_count": 14,
   "metadata": {},
   "outputs": [],
   "source": [
    "from OCC.Display.WebGl.jupyter_renderer import JupyterRenderer"
   ]
  },
  {
   "cell_type": "code",
   "execution_count": 18,
   "metadata": {},
   "outputs": [
    {
     "ename": "NameError",
     "evalue": "name 'EULER_XYZ' is not defined",
     "output_type": "error",
     "traceback": [
      "\u001b[0;31m---------------------------------------------------------------------------\u001b[0m",
      "\u001b[0;31mNameError\u001b[0m                                 Traceback (most recent call last)",
      "Cell \u001b[0;32mIn[18], line 1\u001b[0m\n\u001b[0;32m----> 1\u001b[0m grid_helper\u001b[39m.\u001b[39mrotation \u001b[39m=\u001b[39m EULER_XYZ\n",
      "\u001b[0;31mNameError\u001b[0m: name 'EULER_XYZ' is not defined"
     ]
    }
   ],
   "source": [
    "grid_helper.rotation = EULER_XYZ"
   ]
  },
  {
   "cell_type": "code",
   "execution_count": 15,
   "metadata": {},
   "outputs": [],
   "source": [
    "# Build an helix\n",
    "aCylinder = Geom_CylindricalSurface(gp_Ax3(gp_XOY()), 6.0)\n",
    "aLine2d = gp_Lin2d (gp_Pnt2d(0.0, 0.0), gp_Dir2d(1.0, 1.0))\n",
    "aSegment = GCE2d_MakeSegment(aLine2d, 0.0, pi * 2.0)\n",
    "\n",
    "helix_edge = BRepBuilderAPI_MakeEdge(aSegment.Value(), aCylinder, 0.0, 6.0 * pi).Edge()"
   ]
  },
  {
   "cell_type": "code",
   "execution_count": 16,
   "metadata": {},
   "outputs": [],
   "source": [
    "my_renderer = JupyterRenderer()"
   ]
  },
  {
   "cell_type": "code",
   "execution_count": 17,
   "metadata": {},
   "outputs": [
    {
     "data": {
      "application/vnd.jupyter.widget-view+json": {
       "model_id": "0f1f5cabaa4044cb8a6e7f461949a8c2",
       "version_major": 2,
       "version_minor": 0
      },
      "text/plain": [
       "HBox(children=(VBox(children=(HBox(children=(Checkbox(value=True, description='Axes', layout=Layout(height='au…"
      ]
     },
     "metadata": {},
     "output_type": "display_data"
    },
    {
     "ename": "TraitError",
     "evalue": "The 'rotation' trait of a GridHelper instance contains an Enum of an Euler which expected any of ['XYZ', 'YZX', 'ZXY', 'XZY', 'YXZ', 'ZYX'], not the str 'xyz'.",
     "output_type": "error",
     "traceback": [
      "\u001b[0;31m---------------------------------------------------------------------------\u001b[0m",
      "\u001b[0;31mTraitError\u001b[0m                                Traceback (most recent call last)",
      "File \u001b[0;32m~/anaconda3/envs/pyoccenv/lib/python3.9/site-packages/ipywidgets/widgets/widget.py:773\u001b[0m, in \u001b[0;36mWidget._handle_msg\u001b[0;34m(self, msg)\u001b[0m\n\u001b[1;32m    771\u001b[0m         \u001b[39mif\u001b[39;00m \u001b[39m'\u001b[39m\u001b[39mbuffer_paths\u001b[39m\u001b[39m'\u001b[39m \u001b[39min\u001b[39;00m data:\n\u001b[1;32m    772\u001b[0m             _put_buffers(state, data[\u001b[39m'\u001b[39m\u001b[39mbuffer_paths\u001b[39m\u001b[39m'\u001b[39m], msg[\u001b[39m'\u001b[39m\u001b[39mbuffers\u001b[39m\u001b[39m'\u001b[39m])\n\u001b[0;32m--> 773\u001b[0m         \u001b[39mself\u001b[39;49m\u001b[39m.\u001b[39;49mset_state(state)\n\u001b[1;32m    775\u001b[0m \u001b[39m# Handle a state request.\u001b[39;00m\n\u001b[1;32m    776\u001b[0m \u001b[39melif\u001b[39;00m method \u001b[39m==\u001b[39m \u001b[39m'\u001b[39m\u001b[39mrequest_state\u001b[39m\u001b[39m'\u001b[39m:\n",
      "File \u001b[0;32m~/anaconda3/envs/pyoccenv/lib/python3.9/site-packages/ipywidgets/widgets/widget.py:655\u001b[0m, in \u001b[0;36mWidget.set_state\u001b[0;34m(self, sync_data)\u001b[0m\n\u001b[1;32m    652\u001b[0m \u001b[39mif\u001b[39;00m name \u001b[39min\u001b[39;00m \u001b[39mself\u001b[39m\u001b[39m.\u001b[39mkeys:\n\u001b[1;32m    653\u001b[0m     from_json \u001b[39m=\u001b[39m \u001b[39mself\u001b[39m\u001b[39m.\u001b[39mtrait_metadata(name, \u001b[39m'\u001b[39m\u001b[39mfrom_json\u001b[39m\u001b[39m'\u001b[39m,\n\u001b[1;32m    654\u001b[0m                                     \u001b[39mself\u001b[39m\u001b[39m.\u001b[39m_trait_from_json)\n\u001b[0;32m--> 655\u001b[0m     \u001b[39mself\u001b[39;49m\u001b[39m.\u001b[39;49mset_trait(name, from_json(sync_data[name], \u001b[39mself\u001b[39;49m))\n",
      "File \u001b[0;32m~/anaconda3/envs/pyoccenv/lib/python3.9/site-packages/traitlets/traitlets.py:1742\u001b[0m, in \u001b[0;36mHasTraits.set_trait\u001b[0;34m(self, name, value)\u001b[0m\n\u001b[1;32m   1740\u001b[0m     \u001b[39mraise\u001b[39;00m TraitError(\u001b[39mf\u001b[39m\u001b[39m\"\u001b[39m\u001b[39mClass \u001b[39m\u001b[39m{\u001b[39;00m\u001b[39mcls\u001b[39m\u001b[39m.\u001b[39m\u001b[39m__name__\u001b[39m\u001b[39m}\u001b[39;00m\u001b[39m does not have a trait named \u001b[39m\u001b[39m{\u001b[39;00mname\u001b[39m}\u001b[39;00m\u001b[39m\"\u001b[39m)\n\u001b[1;32m   1741\u001b[0m \u001b[39melse\u001b[39;00m:\n\u001b[0;32m-> 1742\u001b[0m     \u001b[39mgetattr\u001b[39;49m(\u001b[39mcls\u001b[39;49m, name)\u001b[39m.\u001b[39;49mset(\u001b[39mself\u001b[39;49m, value)\n",
      "File \u001b[0;32m~/anaconda3/envs/pyoccenv/lib/python3.9/site-packages/traitlets/traitlets.py:706\u001b[0m, in \u001b[0;36mTraitType.set\u001b[0;34m(self, obj, value)\u001b[0m\n\u001b[1;32m    705\u001b[0m \u001b[39mdef\u001b[39;00m \u001b[39mset\u001b[39m(\u001b[39mself\u001b[39m, obj, value):\n\u001b[0;32m--> 706\u001b[0m     new_value \u001b[39m=\u001b[39m \u001b[39mself\u001b[39;49m\u001b[39m.\u001b[39;49m_validate(obj, value)\n\u001b[1;32m    707\u001b[0m     \u001b[39mtry\u001b[39;00m:\n\u001b[1;32m    708\u001b[0m         old_value \u001b[39m=\u001b[39m obj\u001b[39m.\u001b[39m_trait_values[\u001b[39mself\u001b[39m\u001b[39m.\u001b[39mname]\n",
      "File \u001b[0;32m~/anaconda3/envs/pyoccenv/lib/python3.9/site-packages/traitlets/traitlets.py:738\u001b[0m, in \u001b[0;36mTraitType._validate\u001b[0;34m(self, obj, value)\u001b[0m\n\u001b[1;32m    736\u001b[0m     \u001b[39mreturn\u001b[39;00m value\n\u001b[1;32m    737\u001b[0m \u001b[39mif\u001b[39;00m \u001b[39mhasattr\u001b[39m(\u001b[39mself\u001b[39m, \u001b[39m\"\u001b[39m\u001b[39mvalidate\u001b[39m\u001b[39m\"\u001b[39m):\n\u001b[0;32m--> 738\u001b[0m     value \u001b[39m=\u001b[39m \u001b[39mself\u001b[39;49m\u001b[39m.\u001b[39;49mvalidate(obj, value)\n\u001b[1;32m    739\u001b[0m \u001b[39mif\u001b[39;00m obj\u001b[39m.\u001b[39m_cross_validation_lock \u001b[39mis\u001b[39;00m \u001b[39mFalse\u001b[39;00m:\n\u001b[1;32m    740\u001b[0m     value \u001b[39m=\u001b[39m \u001b[39mself\u001b[39m\u001b[39m.\u001b[39m_cross_validate(obj, value)\n",
      "File \u001b[0;32m~/anaconda3/envs/pyoccenv/lib/python3.9/site-packages/traitlets/traitlets.py:2871\u001b[0m, in \u001b[0;36mContainer.validate\u001b[0;34m(self, obj, value)\u001b[0m\n\u001b[1;32m   2868\u001b[0m \u001b[39mif\u001b[39;00m value \u001b[39mis\u001b[39;00m \u001b[39mNone\u001b[39;00m:\n\u001b[1;32m   2869\u001b[0m     \u001b[39mreturn\u001b[39;00m value\n\u001b[0;32m-> 2871\u001b[0m value \u001b[39m=\u001b[39m \u001b[39mself\u001b[39;49m\u001b[39m.\u001b[39;49mvalidate_elements(obj, value)\n\u001b[1;32m   2873\u001b[0m \u001b[39mreturn\u001b[39;00m value\n",
      "File \u001b[0;32m~/anaconda3/envs/pyoccenv/lib/python3.9/site-packages/traitlets/traitlets.py:3188\u001b[0m, in \u001b[0;36mTuple.validate_elements\u001b[0;34m(self, obj, value)\u001b[0m\n\u001b[1;32m   3186\u001b[0m     v \u001b[39m=\u001b[39m trait\u001b[39m.\u001b[39m_validate(obj, v)\n\u001b[1;32m   3187\u001b[0m \u001b[39mexcept\u001b[39;00m TraitError \u001b[39mas\u001b[39;00m error:\n\u001b[0;32m-> 3188\u001b[0m     \u001b[39mself\u001b[39;49m\u001b[39m.\u001b[39;49merror(obj, v, error)\n\u001b[1;32m   3189\u001b[0m \u001b[39melse\u001b[39;00m:\n\u001b[1;32m   3190\u001b[0m     validated\u001b[39m.\u001b[39mappend(v)\n",
      "File \u001b[0;32m~/anaconda3/envs/pyoccenv/lib/python3.9/site-packages/traitlets/traitlets.py:823\u001b[0m, in \u001b[0;36mTraitType.error\u001b[0;34m(self, obj, value, error, info)\u001b[0m\n\u001b[1;32m    812\u001b[0m         \u001b[39melse\u001b[39;00m:\n\u001b[1;32m    813\u001b[0m             error\u001b[39m.\u001b[39margs \u001b[39m=\u001b[39m (\n\u001b[1;32m    814\u001b[0m                 \u001b[39m\"\u001b[39m\u001b[39mThe \u001b[39m\u001b[39m'\u001b[39m\u001b[39m%s\u001b[39;00m\u001b[39m'\u001b[39m\u001b[39m trait contains \u001b[39m\u001b[39m%s\u001b[39;00m\u001b[39m which \u001b[39m\u001b[39m\"\u001b[39m\n\u001b[1;32m    815\u001b[0m                 \u001b[39m\"\u001b[39m\u001b[39mexpected \u001b[39m\u001b[39m%s\u001b[39;00m\u001b[39m, not \u001b[39m\u001b[39m%s\u001b[39;00m\u001b[39m.\u001b[39m\u001b[39m\"\u001b[39m\n\u001b[0;32m   (...)\u001b[0m\n\u001b[1;32m    821\u001b[0m                 ),\n\u001b[1;32m    822\u001b[0m             )\n\u001b[0;32m--> 823\u001b[0m     \u001b[39mraise\u001b[39;00m error\n\u001b[1;32m    824\u001b[0m \u001b[39melse\u001b[39;00m:\n\u001b[1;32m    825\u001b[0m     \u001b[39m# this trait caused an error\u001b[39;00m\n\u001b[1;32m    826\u001b[0m     \u001b[39mif\u001b[39;00m \u001b[39mself\u001b[39m\u001b[39m.\u001b[39mname \u001b[39mis\u001b[39;00m \u001b[39mNone\u001b[39;00m:\n\u001b[1;32m    827\u001b[0m         \u001b[39m# this is not the root trait\u001b[39;00m\n",
      "File \u001b[0;32m~/anaconda3/envs/pyoccenv/lib/python3.9/site-packages/traitlets/traitlets.py:3186\u001b[0m, in \u001b[0;36mTuple.validate_elements\u001b[0;34m(self, obj, value)\u001b[0m\n\u001b[1;32m   3184\u001b[0m \u001b[39mfor\u001b[39;00m trait, v \u001b[39min\u001b[39;00m \u001b[39mzip\u001b[39m(\u001b[39mself\u001b[39m\u001b[39m.\u001b[39m_traits, value):\n\u001b[1;32m   3185\u001b[0m     \u001b[39mtry\u001b[39;00m:\n\u001b[0;32m-> 3186\u001b[0m         v \u001b[39m=\u001b[39m trait\u001b[39m.\u001b[39;49m_validate(obj, v)\n\u001b[1;32m   3187\u001b[0m     \u001b[39mexcept\u001b[39;00m TraitError \u001b[39mas\u001b[39;00m error:\n\u001b[1;32m   3188\u001b[0m         \u001b[39mself\u001b[39m\u001b[39m.\u001b[39merror(obj, v, error)\n",
      "File \u001b[0;32m~/anaconda3/envs/pyoccenv/lib/python3.9/site-packages/traitlets/traitlets.py:738\u001b[0m, in \u001b[0;36mTraitType._validate\u001b[0;34m(self, obj, value)\u001b[0m\n\u001b[1;32m    736\u001b[0m     \u001b[39mreturn\u001b[39;00m value\n\u001b[1;32m    737\u001b[0m \u001b[39mif\u001b[39;00m \u001b[39mhasattr\u001b[39m(\u001b[39mself\u001b[39m, \u001b[39m\"\u001b[39m\u001b[39mvalidate\u001b[39m\u001b[39m\"\u001b[39m):\n\u001b[0;32m--> 738\u001b[0m     value \u001b[39m=\u001b[39m \u001b[39mself\u001b[39;49m\u001b[39m.\u001b[39;49mvalidate(obj, value)\n\u001b[1;32m    739\u001b[0m \u001b[39mif\u001b[39;00m obj\u001b[39m.\u001b[39m_cross_validation_lock \u001b[39mis\u001b[39;00m \u001b[39mFalse\u001b[39;00m:\n\u001b[1;32m    740\u001b[0m     value \u001b[39m=\u001b[39m \u001b[39mself\u001b[39m\u001b[39m.\u001b[39m_cross_validate(obj, value)\n",
      "File \u001b[0;32m~/anaconda3/envs/pyoccenv/lib/python3.9/site-packages/traitlets/traitlets.py:2662\u001b[0m, in \u001b[0;36mEnum.validate\u001b[0;34m(self, obj, value)\u001b[0m\n\u001b[1;32m   2660\u001b[0m \u001b[39mif\u001b[39;00m value \u001b[39min\u001b[39;00m \u001b[39mself\u001b[39m\u001b[39m.\u001b[39mvalues:\n\u001b[1;32m   2661\u001b[0m     \u001b[39mreturn\u001b[39;00m value\n\u001b[0;32m-> 2662\u001b[0m \u001b[39mself\u001b[39;49m\u001b[39m.\u001b[39;49merror(obj, value)\n",
      "File \u001b[0;32m~/anaconda3/envs/pyoccenv/lib/python3.9/site-packages/traitlets/traitlets.py:828\u001b[0m, in \u001b[0;36mTraitType.error\u001b[0;34m(self, obj, value, error, info)\u001b[0m\n\u001b[1;32m    824\u001b[0m \u001b[39melse\u001b[39;00m:\n\u001b[1;32m    825\u001b[0m     \u001b[39m# this trait caused an error\u001b[39;00m\n\u001b[1;32m    826\u001b[0m     \u001b[39mif\u001b[39;00m \u001b[39mself\u001b[39m\u001b[39m.\u001b[39mname \u001b[39mis\u001b[39;00m \u001b[39mNone\u001b[39;00m:\n\u001b[1;32m    827\u001b[0m         \u001b[39m# this is not the root trait\u001b[39;00m\n\u001b[0;32m--> 828\u001b[0m         \u001b[39mraise\u001b[39;00m TraitError(value, info \u001b[39mor\u001b[39;00m \u001b[39mself\u001b[39m\u001b[39m.\u001b[39minfo(), \u001b[39mself\u001b[39m)\n\u001b[1;32m    829\u001b[0m     \u001b[39melse\u001b[39;00m:\n\u001b[1;32m    830\u001b[0m         \u001b[39m# this is the root trait\u001b[39;00m\n\u001b[1;32m    831\u001b[0m         \u001b[39mif\u001b[39;00m obj \u001b[39mis\u001b[39;00m \u001b[39mnot\u001b[39;00m \u001b[39mNone\u001b[39;00m:\n",
      "\u001b[0;31mTraitError\u001b[0m: The 'rotation' trait of a GridHelper instance contains an Enum of an Euler which expected any of ['XYZ', 'YZX', 'ZXY', 'XZY', 'YXZ', 'ZYX'], not the str 'xyz'."
     ]
    }
   ],
   "source": [
    "my_renderer.DisplayShape(helix_edge, update=True)"
   ]
  }
 ],
 "metadata": {
  "kernelspec": {
   "display_name": "pyoccenv",
   "language": "python",
   "name": "python3"
  },
  "language_info": {
   "codemirror_mode": {
    "name": "ipython",
    "version": 3
   },
   "file_extension": ".py",
   "mimetype": "text/x-python",
   "name": "python",
   "nbconvert_exporter": "python",
   "pygments_lexer": "ipython3",
   "version": "3.9.16"
  },
  "orig_nbformat": 4,
  "vscode": {
   "interpreter": {
    "hash": "bd0993b08b0ff68a1bbf62f74e0292f92d6878c2c13eebcfc87ff16306c66cac"
   }
  }
 },
 "nbformat": 4,
 "nbformat_minor": 2
}
